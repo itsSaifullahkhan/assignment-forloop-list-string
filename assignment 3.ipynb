{
 "cells": [
  {
   "cell_type": "markdown",
   "id": "4fdd476e-ac96-4611-9030-e6a7c73aa93c",
   "metadata": {},
   "source": [
    "# ASSIGNMENT 3"
   ]
  },
  {
   "cell_type": "markdown",
   "id": "c87eeecc-1b3a-4dd3-b50e-f96c97e5ab20",
   "metadata": {},
   "source": [
    "### question 1"
   ]
  },
  {
   "cell_type": "code",
   "execution_count": 13,
   "id": "6f6bb80b-b51b-40a6-9b29-2183948f6073",
   "metadata": {},
   "outputs": [
    {
     "name": "stdin",
     "output_type": "stream",
     "text": [
      "enter your string: saifullah\n"
     ]
    },
    {
     "name": "stdout",
     "output_type": "stream",
     "text": [
      "vowels: ['a', 'i', 'u']\n",
      "total vowels: 3\n"
     ]
    }
   ],
   "source": [
    "string=input(\"enter your string:\")\n",
    "vowels=['a','e','i','0','u']\n",
    "result=[]\n",
    "for letter in vowels:\n",
    "    if letter in string:\n",
    "        result.append(letter)\n",
    "print(\"vowels:\",result)\n",
    "print(\"total vowels:\",len(result))"
   ]
  },
  {
   "cell_type": "markdown",
   "id": "fac33a45-75fd-41e9-a2e5-5a4b4edc8766",
   "metadata": {},
   "source": [
    "### question 2"
   ]
  },
  {
   "cell_type": "code",
   "execution_count": 32,
   "id": "db21d379-6be5-4070-a7a0-64b222d57ff9",
   "metadata": {},
   "outputs": [
    {
     "name": "stdout",
     "output_type": "stream",
     "text": [
      "upper letters: ['S', 'M', 'I', 'T', 'T']\n",
      "lower letters: ['a', 'y', 'l', 'a', 'n', 'i', 'a', 's', 's', 'r', 'a', 'i', 'n', 'i', 'n', 'g']\n",
      "digits: 24\n",
      "white space: [' ', ' ', ' ']\n"
     ]
    }
   ],
   "source": [
    "text=\"Saylani Mass IT Training\"\n",
    "upper_letters=[]\n",
    "lower_letters=[]\n",
    "white_space=[]\n",
    "for letter in text:\n",
    "    if letter.isupper():\n",
    "        upper_letters.append(letter)\n",
    "    if letter.islower():\n",
    "        lower_letters.append(letter)\n",
    "    if letter.isspace():\n",
    "        white_space.append(letter)\n",
    "        \n",
    "print(\"upper letters:\",upper_letters)\n",
    "print(\"lower letters:\",lower_letters)\n",
    "print(\"digits:\",len(text))\n",
    "print(\"white space:\",white_space)\n",
    "\n",
    "\n",
    "        "
   ]
  },
  {
   "cell_type": "markdown",
   "id": "8d1e95f6-1a51-4678-9895-9d54a9afa520",
   "metadata": {},
   "source": [
    "### question 3"
   ]
  },
  {
   "cell_type": "code",
   "execution_count": 41,
   "id": "4e00dea0-a1ed-484e-9fe2-0b8a7d693af1",
   "metadata": {},
   "outputs": [
    {
     "name": "stdin",
     "output_type": "stream",
     "text": [
      "enter your text hello\n"
     ]
    },
    {
     "name": "stdout",
     "output_type": "stream",
     "text": [
      "oellh\n"
     ]
    }
   ],
   "source": [
    "text=input(\"enter your text\")\n",
    "first_letter=text[0]\n",
    "last_letter=text[-1]\n",
    "middle_letter=text[1:-1]\n",
    "new_text=last_letter+middle_letter+first_letter\n",
    "print(new_text)\n",
    "    \n"
   ]
  },
  {
   "cell_type": "markdown",
   "id": "a025c249-5516-419c-8d24-614fedeb4d78",
   "metadata": {},
   "source": [
    "### question 4"
   ]
  },
  {
   "cell_type": "code",
   "execution_count": 5,
   "id": "3782056b-6429-4ffb-91d0-551e48f0541f",
   "metadata": {},
   "outputs": [
    {
     "name": "stdin",
     "output_type": "stream",
     "text": [
      "enter your text saylani\n"
     ]
    },
    {
     "name": "stdout",
     "output_type": "stream",
     "text": [
      "inalyas\n"
     ]
    }
   ],
   "source": [
    "text=input(\"enter your text\")\n",
    "value=text[::-1]\n",
    "print(value)"
   ]
  },
  {
   "cell_type": "markdown",
   "id": "e900ea62-f3c9-48f6-89d4-38eec01af2bb",
   "metadata": {},
   "source": [
    "### qustion 5"
   ]
  },
  {
   "cell_type": "code",
   "execution_count": 2,
   "id": "b18fd8c9-5dae-4690-a09c-c8098499f57f",
   "metadata": {},
   "outputs": [
    {
     "name": "stdin",
     "output_type": "stream",
     "text": [
      "enter your text examination 2021\n"
     ]
    },
    {
     "name": "stdout",
     "output_type": "stream",
     "text": [
      "['xamination 2021e']\n"
     ]
    }
   ],
   "source": [
    "text=input(\"enter your text\")\n",
    "result=[]\n",
    "shifted_list=text[1:]+text[:1]\n",
    "result.append(shifted_list)\n",
    "print(result)"
   ]
  },
  {
   "cell_type": "markdown",
   "id": "7d67bc9d-deaa-42c4-9a64-686a0942fd91",
   "metadata": {},
   "source": [
    "### question 6"
   ]
  },
  {
   "cell_type": "code",
   "execution_count": 6,
   "id": "c68c87c1-053e-4c32-a160-403331d1f2b6",
   "metadata": {},
   "outputs": [
    {
     "name": "stdin",
     "output_type": "stream",
     "text": [
      "enter ur first name Ajay\n",
      "enter ur middle name Kumar\n",
      "enter ur last name Garg\n"
     ]
    },
    {
     "name": "stdout",
     "output_type": "stream",
     "text": [
      "['AKG']\n"
     ]
    }
   ],
   "source": [
    "first_name=input(\"enter ur first name:\")\n",
    "middle_name=input(\"enter ur middle name:\")\n",
    "last_name=input(\"enter ur last name:\")\n",
    "result=[]\n",
    "initials=first_name[0]+middle_name[0]+last_name[0]\n",
    "\n",
    "result.append(initials)\n",
    "print(result)"
   ]
  },
  {
   "cell_type": "markdown",
   "id": "287adbed-267c-4c86-b4b5-c89bf2acdcd1",
   "metadata": {},
   "source": [
    "### question 7"
   ]
  },
  {
   "cell_type": "code",
   "execution_count": 7,
   "id": "15e904ae-d444-42ca-962e-d3f9bec20fd0",
   "metadata": {},
   "outputs": [
    {
     "name": "stdout",
     "output_type": "stream",
     "text": [
      "['Maham']\n"
     ]
    }
   ],
   "source": [
    "palindrome=['Maham']\n",
    "name=palindrome[-1:1]\n",
    "print(name)"
   ]
  },
  {
   "cell_type": "markdown",
   "id": "4f06ccd9-2353-423b-9d13-26dc104527d5",
   "metadata": {},
   "source": [
    "### question 8"
   ]
  },
  {
   "cell_type": "code",
   "execution_count": 10,
   "id": "aa0c2e6b-7bcb-4400-8806-747c56e303ef",
   "metadata": {},
   "outputs": [
    {
     "name": "stdout",
     "output_type": "stream",
     "text": [
      "SHIFT\n",
      "HIFTS\n",
      "IFTSH\n",
      "FTSHI\n",
      "TSHIF\n"
     ]
    }
   ],
   "source": [
    "name = \"SHIFT\"\n",
    "for i in range(len(name)):\n",
    "    rotated_name = name[i:] + name[:i]\n",
    "    print(rotated_name)"
   ]
  },
  {
   "cell_type": "markdown",
   "id": "eaf265cd-5ccc-4f74-8f3e-79d8f1726ca7",
   "metadata": {},
   "source": [
    "### question 9"
   ]
  },
  {
   "cell_type": "code",
   "execution_count": 25,
   "id": "1b627744-edcb-4b20-823d-74699d1d8749",
   "metadata": {},
   "outputs": [
    {
     "name": "stdin",
     "output_type": "stream",
     "text": [
      "enter your password: Saifullah\n"
     ]
    },
    {
     "ename": "TypeError",
     "evalue": "object of type 'int' has no len()",
     "output_type": "error",
     "traceback": [
      "\u001b[1;31m---------------------------------------------------------------------------\u001b[0m",
      "\u001b[1;31mTypeError\u001b[0m                                 Traceback (most recent call last)",
      "Cell \u001b[1;32mIn[25], line 5\u001b[0m\n\u001b[0;32m      3\u001b[0m \u001b[38;5;28;01mif\u001b[39;00m \u001b[38;5;28mlen\u001b[39m(password) \u001b[38;5;241m<\u001b[39m \u001b[38;5;241m8\u001b[39m:\n\u001b[0;32m      4\u001b[0m     \u001b[38;5;28mprint\u001b[39m(\u001b[38;5;124m\"\u001b[39m\u001b[38;5;124myour password is incorrect\u001b[39m\u001b[38;5;124m\"\u001b[39m)\n\u001b[1;32m----> 5\u001b[0m \u001b[38;5;28;01mif\u001b[39;00m \u001b[38;5;28mlen\u001b[39m(uppercase_count)\u001b[38;5;241m<\u001b[39m\u001b[38;5;241m1\u001b[39m:\n\u001b[0;32m      6\u001b[0m     \u001b[38;5;28mprint\u001b[39m(\u001b[38;5;124m\"\u001b[39m\u001b[38;5;124myour password is incorrect\u001b[39m\u001b[38;5;124m\"\u001b[39m)\n",
      "\u001b[1;31mTypeError\u001b[0m: object of type 'int' has no len()"
     ]
    }
   ],
   "source": [
    "password = input(\"Enter a password: \")\n",
    "is_long_enough = len(password) >= 8\n",
    "has_upper = False\n",
    "has_lower = False\n",
    "has_digit = False\n",
    "\n",
    "# Check each character in the password\n",
    "for char in password:\n",
    "    if char.isupper():\n",
    "        has_upper = True\n",
    "    if char.islower():\n",
    "        has_lower = True\n",
    "    if char.isdigit():\n",
    "        has_digit = True\n",
    "\n",
    "# Validate the password\n",
    "if is_long_enough and has_upper and has_lower and has_digit:\n",
    "    print(\"Password is valid.\")\n",
    "else:\n",
    "    print(\"Password is invalid. It must be at least 8 characters long, contain at least one uppercase letter, one lowercase letter, and one digit.\")\n"
   ]
  },
  {
   "cell_type": "code",
   "execution_count": 17,
   "id": "ab038f23-745d-4745-a574-ee8ffb71cdc9",
   "metadata": {},
   "outputs": [
    {
     "ename": "NameError",
     "evalue": "name 'saif' is not defined",
     "output_type": "error",
     "traceback": [
      "\u001b[1;31m---------------------------------------------------------------------------\u001b[0m",
      "\u001b[1;31mNameError\u001b[0m                                 Traceback (most recent call last)",
      "Cell \u001b[1;32mIn[17], line 1\u001b[0m\n\u001b[1;32m----> 1\u001b[0m name\u001b[38;5;241m=\u001b[39msaif\n\u001b[0;32m      2\u001b[0m name\u001b[38;5;241m.\u001b[39misupper()\n",
      "\u001b[1;31mNameError\u001b[0m: name 'saif' is not defined"
     ]
    }
   ],
   "source": [
    "name=saif\n",
    "name.isupper()"
   ]
  },
  {
   "cell_type": "code",
   "execution_count": null,
   "id": "255270b8-9faa-4200-9809-978e03d0a19d",
   "metadata": {},
   "outputs": [],
   "source": []
  }
 ],
 "metadata": {
  "kernelspec": {
   "display_name": "Python 3 (ipykernel)",
   "language": "python",
   "name": "python3"
  },
  "language_info": {
   "codemirror_mode": {
    "name": "ipython",
    "version": 3
   },
   "file_extension": ".py",
   "mimetype": "text/x-python",
   "name": "python",
   "nbconvert_exporter": "python",
   "pygments_lexer": "ipython3",
   "version": "3.11.7"
  }
 },
 "nbformat": 4,
 "nbformat_minor": 5
}
