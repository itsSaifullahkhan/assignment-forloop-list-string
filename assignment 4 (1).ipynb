{
 "cells": [
  {
   "cell_type": "markdown",
   "id": "4d35c82a-5da7-4e7a-a97d-0131ffc531bc",
   "metadata": {},
   "source": [
    "# ---------------------------ASSIGNMENT 4---------------------------"
   ]
  },
  {
   "cell_type": "markdown",
   "id": "5ac47180-5e85-4f30-a52d-12c93d85d044",
   "metadata": {},
   "source": [
    "### question 1"
   ]
  },
  {
   "cell_type": "code",
   "execution_count": 3,
   "id": "66137d12-0c2f-4127-977c-5247593d973b",
   "metadata": {},
   "outputs": [
    {
     "name": "stdin",
     "output_type": "stream",
     "text": [
      "Enter a list of elements separated by spaces:  1 2 3 4 5 6 7\n"
     ]
    },
    {
     "name": "stdout",
     "output_type": "stream",
     "text": [
      "Alternate elements of the list are:\n",
      "1\n",
      "3\n",
      "5\n",
      "7\n"
     ]
    }
   ],
   "source": [
    "user_input = input(\"Enter a list of elements : \")\n",
    "input_list = user_input.split()\n",
    "print(\"Alternate elements of the list are:\")\n",
    "for i in range(0, len(input_list), 2):\n",
    "    print(input_list[i])\n"
   ]
  },
  {
   "cell_type": "markdown",
   "id": "4d95e75f-be03-4e34-9cdc-734fb7c47d67",
   "metadata": {},
   "source": [
    "### question 2"
   ]
  },
  {
   "cell_type": "code",
   "execution_count": 3,
   "id": "3adaae7c-5f90-4ae3-ae40-ea341f03faba",
   "metadata": {},
   "outputs": [
    {
     "name": "stdin",
     "output_type": "stream",
     "text": [
      "enter your list:  apple,banan,cherry\n"
     ]
    },
    {
     "name": "stdout",
     "output_type": "stream",
     "text": [
      "['y', 'r', 'r', 'e', 'h', 'c', ',', 'n', 'a', 'n', 'a', 'b', ',', 'e', 'l', 'p', 'p', 'a']\n"
     ]
    }
   ],
   "source": [
    "list=input(\"enter your list: \")\n",
    "reversed_list=[]\n",
    "for item in reversed(list):\n",
    "    reversed_list.append(item)\n",
    "print(reversed_list)    "
   ]
  },
  {
   "cell_type": "markdown",
   "id": "ea5e12d7-67f2-481e-92ec-e46113e4d2a9",
   "metadata": {},
   "source": [
    "### question 3"
   ]
  },
  {
   "cell_type": "code",
   "execution_count": 35,
   "id": "b87e46fe-02d9-4e27-bc22-53e343c34d5e",
   "metadata": {},
   "outputs": [
    {
     "name": "stdin",
     "output_type": "stream",
     "text": [
      "enter your numbers: 6\n",
      "Enter number 1:  4\n",
      "Enter number 2:  5\n",
      "Enter number 3:  7\n",
      "Enter number 4:  3\n",
      "Enter number 5:  2\n",
      "Enter number 6:  9\n"
     ]
    },
    {
     "name": "stdout",
     "output_type": "stream",
     "text": [
      "The largest number is: 9\n"
     ]
    }
   ],
   "source": [
    "number_list=[]\n",
    "user_list=int(input(\"enter your numbers:\"))\n",
    "for i in range(user_list):\n",
    "    num = int(input(f\"Enter number {i+1}: \"))\n",
    "    number_list.append(num)\n",
    "largest_number=number_list[0]  \n",
    "for num in number_list:\n",
    "    if num>largest_number:\n",
    "        largest_number=num\n",
    "print(\"The largest number is:\", largest_number)        \n",
    "\n",
    "    \n",
    "              \n",
    "\n"
   ]
  },
  {
   "cell_type": "markdown",
   "id": "8cf5ec5c-11e4-4f70-b6c2-cb50127e1f9b",
   "metadata": {},
   "source": [
    "### question 4"
   ]
  },
  {
   "cell_type": "code",
   "execution_count": 2,
   "id": "5cba1a1d-5d5b-45c1-94b9-707bacf3a45a",
   "metadata": {},
   "outputs": [
    {
     "name": "stdin",
     "output_type": "stream",
     "text": [
      "Enter a list of elements:  a b c d e\n"
     ]
    },
    {
     "name": "stdout",
     "output_type": "stream",
     "text": [
      "Rotated list: ['e', 'a', 'b', 'c', 'd']\n"
     ]
    }
   ],
   "source": [
    "user_input = input(\"Enter a list of elements: \")\n",
    "input_list = user_input.split()\n",
    "rotated_list = [input_list[-1]] + input_list[:-1]\n",
    "print(\"Rotated list:\", rotated_list)\n"
   ]
  },
  {
   "cell_type": "markdown",
   "id": "9e6d1daf-11ec-46ee-a4c4-af82fe449fd5",
   "metadata": {},
   "source": [
    "### question 5"
   ]
  },
  {
   "cell_type": "code",
   "execution_count": 25,
   "id": "441c7501-6f80-4a10-b2d3-285034d14f1e",
   "metadata": {},
   "outputs": [
    {
     "name": "stdin",
     "output_type": "stream",
     "text": [
      "enter your string here: i am saifullah\n",
      "enter a word that u want to delete: am\n"
     ]
    },
    {
     "name": "stdout",
     "output_type": "stream",
     "text": [
      "modified string: i   saifullah\n"
     ]
    }
   ],
   "source": [
    "string=input(\"enter your string here:\")\n",
    "word_to_delete=input(\"enter a word that u want to delete:\")\n",
    "modified_string=string.replace(word_to_delete,\" \")\n",
    "print(\"modified string:\",modified_string)"
   ]
  },
  {
   "cell_type": "markdown",
   "id": "5893a693-fe34-4abc-b45b-ab38c94a16cd",
   "metadata": {},
   "source": [
    "### question 6"
   ]
  },
  {
   "cell_type": "code",
   "execution_count": 7,
   "id": "dee711bd-e185-43d3-bcf5-0dfc6287d166",
   "metadata": {},
   "outputs": [
    {
     "name": "stdin",
     "output_type": "stream",
     "text": [
      "Enter a date in the format mm/dd/yyyy:  09/08/2006\n"
     ]
    },
    {
     "name": "stdout",
     "output_type": "stream",
     "text": [
      "September 8, 2006\n"
     ]
    }
   ],
   "source": [
    "date = input(\"Enter a date in the format mm/dd/yyyy: \")\n",
    "month, day, year = date.split('/')\n",
    "if month == '01':\n",
    "    month_name = 'January'\n",
    "elif month == '02':\n",
    "    month_name = 'February'\n",
    "elif month == '03':\n",
    "    month_name = 'March'\n",
    "elif month == '04':\n",
    "    month_name = 'April'\n",
    "elif month == '05':\n",
    "    month_name = 'May'\n",
    "elif month == '06':\n",
    "    month_name = 'June'\n",
    "elif month == '07':\n",
    "    month_name = 'July'\n",
    "elif month == '08':\n",
    "    month_name = 'August'\n",
    "elif month == '09':\n",
    "    month_name = 'September'\n",
    "elif month == '10':\n",
    "    month_name = 'October'\n",
    "elif month == '11':\n",
    "    month_name = 'November'\n",
    "elif month == '12':\n",
    "    month_name = 'December'\n",
    "else:\n",
    "    month_name = 'Invalid month'\n",
    "print(f\"{month_name} {int(day)}, {year}\")\n"
   ]
  },
  {
   "cell_type": "markdown",
   "id": "db0a6107-c279-47f5-ba1c-c781244800a0",
   "metadata": {},
   "source": [
    "### question 7"
   ]
  },
  {
   "cell_type": "code",
   "execution_count": 27,
   "id": "847e1688-e944-4d2e-a6b0-ee2cb6828563",
   "metadata": {},
   "outputs": [
    {
     "name": "stdin",
     "output_type": "stream",
     "text": [
      "Enter a sentence:  stop and smell the roses.\n"
     ]
    },
    {
     "name": "stdout",
     "output_type": "stream",
     "text": [
      "Capitalized sentence: Stop And Smell The Roses.\n"
     ]
    }
   ],
   "source": [
    "input_string = input(\"Enter a sentence: \")\n",
    "capitalized_string = input_string.title()\n",
    "print(\"Capitalized sentence:\", capitalized_string)\n",
    "\n"
   ]
  },
  {
   "cell_type": "markdown",
   "id": "3d22f8bd-04c7-43d1-8fc3-076698f92a35",
   "metadata": {},
   "source": [
    "### question 8"
   ]
  },
  {
   "cell_type": "code",
   "execution_count": 9,
   "id": "f0272d6f-d024-4366-b645-9af38af0c23c",
   "metadata": {},
   "outputs": [
    {
     "name": "stdout",
     "output_type": "stream",
     "text": [
      "the sum of row 1 is : 32\n",
      "the sum of row 2 is : 31\n",
      "the sum of row 3 is : 63\n"
     ]
    }
   ],
   "source": [
    "numbers=[2,11,7,12,\n",
    "        5,2,9,15,\n",
    "        8,3,10,42]\n",
    "x=numbers[0]+numbers[1]+numbers[2]+numbers[3]\n",
    "y=numbers[4]+numbers[5]+numbers[6]+numbers[7]\n",
    "z=numbers[8]+numbers[9]+numbers[10]+numbers[11]\n",
    "print(f\"the sum of row 1 is : {x}\")\n",
    "print(f\"the sum of row 2 is : {y}\")\n",
    "print(f\"the sum of row 3 is : {z}\")\n",
    "\n",
    "        "
   ]
  },
  {
   "cell_type": "markdown",
   "id": "0bbfed92-6465-461a-b884-5da72fb24ba9",
   "metadata": {},
   "source": [
    "### qustion 9"
   ]
  },
  {
   "cell_type": "code",
   "execution_count": 16,
   "id": "064e1407-42e6-4475-a60f-8a93c49a628b",
   "metadata": {},
   "outputs": [
    {
     "name": "stdout",
     "output_type": "stream",
     "text": [
      "the sum of both matrices is : 252\n"
     ]
    }
   ],
   "source": [
    "matric_1=[2,11,7,12,\n",
    "        5,2,9,15,\n",
    "        8,3,10,42]\n",
    "x=numbers[0]+numbers[1]+numbers[2]+numbers[3]\n",
    "y=numbers[4]+numbers[5]+numbers[6]+numbers[7]\n",
    "z=numbers[8]+numbers[9]+numbers[10]+numbers[11]\n",
    "sum_1=x+y+z\n",
    "matric_2=[7,9,7,10,\n",
    "        13,2,0,11,\n",
    "        8,0,17,34]\n",
    "a=numbers[0]+numbers[1]+numbers[2]+numbers[3]\n",
    "b=numbers[4]+numbers[5]+numbers[6]+numbers[7]\n",
    "c=numbers[8]+numbers[9]+numbers[10]+numbers[11]\n",
    "sum_2=a+b+c\n",
    "sum=sum_1+sum_2\n",
    "print(f\"the sum of both matrices is : {sum}\")"
   ]
  },
  {
   "cell_type": "markdown",
   "id": "00937828-4e28-45f3-85d6-43089ffeaed8",
   "metadata": {},
   "source": [
    "### question 10"
   ]
  },
  {
   "cell_type": "code",
   "execution_count": 17,
   "id": "125c49ab-6991-4bc8-a3ce-826c1ede7501",
   "metadata": {},
   "outputs": [
    {
     "name": "stdout",
     "output_type": "stream",
     "text": [
      "the multiplication of both matrices is : 15876\n"
     ]
    }
   ],
   "source": [
    "matric_1=[2,11,7,12,\n",
    "        5,2,9,15,\n",
    "        8,3,10,42]\n",
    "x=numbers[0]+numbers[1]+numbers[2]+numbers[3]\n",
    "y=numbers[4]+numbers[5]+numbers[6]+numbers[7]\n",
    "z=numbers[8]+numbers[9]+numbers[10]+numbers[11]\n",
    "sum_1=x+y+z\n",
    "matric_2=[7,9,7,10,\n",
    "        13,2,0,11,\n",
    "        8,0,17,34]\n",
    "a=numbers[0]+numbers[1]+numbers[2]+numbers[3]\n",
    "b=numbers[4]+numbers[5]+numbers[6]+numbers[7]\n",
    "c=numbers[8]+numbers[9]+numbers[10]+numbers[11]\n",
    "sum_2=a+b+c\n",
    "multiplication=sum_1*sum_2\n",
    "print(f\"the multiplication of both matrices is : {multiplication}\")"
   ]
  }
 ],
 "metadata": {
  "kernelspec": {
   "display_name": "Python 3 (ipykernel)",
   "language": "python",
   "name": "python3"
  },
  "language_info": {
   "codemirror_mode": {
    "name": "ipython",
    "version": 3
   },
   "file_extension": ".py",
   "mimetype": "text/x-python",
   "name": "python",
   "nbconvert_exporter": "python",
   "pygments_lexer": "ipython3",
   "version": "3.11.7"
  }
 },
 "nbformat": 4,
 "nbformat_minor": 5
}
