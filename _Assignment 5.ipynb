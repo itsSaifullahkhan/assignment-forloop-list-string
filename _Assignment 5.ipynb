{
 "cells": [
  {
   "cell_type": "markdown",
   "id": "7c13a296-d52f-4d4b-aabb-19df846b6cf3",
   "metadata": {},
   "source": [
    "# --------------------Assignment 4-------------------"
   ]
  },
  {
   "cell_type": "markdown",
   "id": "6866ad68-570c-45c4-95e8-cf82f875c3a8",
   "metadata": {},
   "source": [
    "### `question 1"
   ]
  },
  {
   "cell_type": "code",
   "execution_count": 1,
   "id": "b8413a3f-1cd9-4b4d-8123-71e89b4cca65",
   "metadata": {},
   "outputs": [
    {
     "name": "stdout",
     "output_type": "stream",
     "text": [
      "1\n",
      "2\n",
      "3\n",
      "4\n",
      "5\n",
      "6\n",
      "7\n",
      "8\n",
      "9\n",
      "10\n"
     ]
    }
   ],
   "source": [
    "for i in range (1,11):\n",
    "    print(i)"
   ]
  },
  {
   "cell_type": "markdown",
   "id": "8d661f60-6119-492b-a4ca-489f5e38848c",
   "metadata": {},
   "source": [
    "### question 2"
   ]
  },
  {
   "cell_type": "code",
   "execution_count": 1,
   "id": "842d1533-5035-4169-8442-a6402f7a9e05",
   "metadata": {},
   "outputs": [
    {
     "name": "stdout",
     "output_type": "stream",
     "text": [
      "20\n",
      "19\n",
      "18\n",
      "17\n",
      "16\n",
      "15\n",
      "14\n",
      "13\n",
      "12\n",
      "11\n",
      "10\n",
      "9\n",
      "8\n",
      "7\n",
      "6\n",
      "5\n",
      "4\n",
      "3\n",
      "2\n",
      "1\n"
     ]
    }
   ],
   "source": [
    "numbers=20\n",
    "while numbers>=1:\n",
    "    print (numbers)\n",
    "    numbers -=1\n"
   ]
  },
  {
   "cell_type": "markdown",
   "id": "9bc1a303-6696-4223-ac50-3f1152783c10",
   "metadata": {},
   "source": [
    "### question 3"
   ]
  },
  {
   "cell_type": "code",
   "execution_count": 4,
   "id": "22ecc7a5-a7d3-4905-8ce2-a8728c6ea31b",
   "metadata": {},
   "outputs": [
    {
     "name": "stdout",
     "output_type": "stream",
     "text": [
      "2\n",
      "4\n",
      "6\n",
      "8\n",
      "10\n"
     ]
    }
   ],
   "source": [
    "for even in range(2,11,2):\n",
    "    print(even)"
   ]
  },
  {
   "cell_type": "markdown",
   "id": "1004f244-7af7-4772-ba0d-6b4051a9df6b",
   "metadata": {},
   "source": [
    "### question 4"
   ]
  },
  {
   "cell_type": "code",
   "execution_count": 13,
   "id": "1bf88ec6-c5c6-4c3e-934e-b2a0234e6585",
   "metadata": {},
   "outputs": [
    {
     "name": "stdin",
     "output_type": "stream",
     "text": [
      "enter your number: 8\n"
     ]
    },
    {
     "name": "stdout",
     "output_type": "stream",
     "text": [
      "1\n",
      "2\n",
      "3\n",
      "4\n",
      "5\n",
      "6\n",
      "7\n"
     ]
    }
   ],
   "source": [
    "number=int(input(\"enter your number:\"))\n",
    "for i in range(1,number):\n",
    "    print(i)\n",
    "    "
   ]
  },
  {
   "cell_type": "markdown",
   "id": "85582090-5a14-421d-ab29-24d491eabf87",
   "metadata": {},
   "source": [
    "### question 5"
   ]
  },
  {
   "cell_type": "code",
   "execution_count": 14,
   "id": "194d77d0-0d25-43e2-b02e-d258db87cd62",
   "metadata": {},
   "outputs": [
    {
     "name": "stdin",
     "output_type": "stream",
     "text": [
      "enter your number: 8\n"
     ]
    },
    {
     "name": "stdout",
     "output_type": "stream",
     "text": [
      "1\n",
      "3\n",
      "5\n",
      "7\n"
     ]
    }
   ],
   "source": [
    "number=int(input(\"enter your number:\"))\n",
    "for i in range(1,number,2):\n",
    "    print(i)"
   ]
  },
  {
   "cell_type": "markdown",
   "id": "9ac567fd-6748-4b8d-91f7-dbb832dcf0c5",
   "metadata": {},
   "source": [
    "### question 6"
   ]
  },
  {
   "cell_type": "code",
   "execution_count": 9,
   "id": "47cdd526-641f-46a7-b513-9fe8d134000b",
   "metadata": {},
   "outputs": [
    {
     "name": "stdout",
     "output_type": "stream",
     "text": [
      "happy birthday\n",
      "happy birthday\n",
      "happy birthday\n",
      "happy birthday\n",
      "happy birthday\n"
     ]
    }
   ],
   "source": [
    "text=\"happy birthday\"\n",
    "for i in range(1,6):\n",
    "    print(text)"
   ]
  },
  {
   "cell_type": "markdown",
   "id": "797e2373-24d9-4b54-8458-8605e9ac13ff",
   "metadata": {},
   "source": [
    "### question 7"
   ]
  },
  {
   "cell_type": "code",
   "execution_count": 3,
   "id": "557ac45e-c775-4248-b23a-9cb9e4e0924b",
   "metadata": {},
   "outputs": [
    {
     "name": "stdin",
     "output_type": "stream",
     "text": [
      "enter your number: 8\n"
     ]
    },
    {
     "name": "stdout",
     "output_type": "stream",
     "text": [
      "1\n",
      "4\n",
      "9\n",
      "16\n",
      "25\n",
      "36\n",
      "49\n",
      "64\n"
     ]
    }
   ],
   "source": [
    "number=int(input(\"enter your number:\"))\n",
    "for i in range(1,number+1):\n",
    "    print(i**2)\n"
   ]
  },
  {
   "cell_type": "markdown",
   "id": "7d625271-529e-489d-badd-3db27a97ed25",
   "metadata": {},
   "source": [
    "### question 8"
   ]
  },
  {
   "cell_type": "code",
   "execution_count": 5,
   "id": "d9da7785-f433-426b-8dd0-7715f7194278",
   "metadata": {},
   "outputs": [
    {
     "name": "stdin",
     "output_type": "stream",
     "text": [
      "enter your number: 6\n"
     ]
    },
    {
     "name": "stdout",
     "output_type": "stream",
     "text": [
      "6 x 1 = 6\n",
      "6 x 2 = 12\n",
      "6 x 3 = 18\n",
      "6 x 4 = 24\n",
      "6 x 5 = 30\n",
      "6 x 6 = 36\n",
      "6 x 7 = 42\n",
      "6 x 8 = 48\n",
      "6 x 9 = 54\n",
      "6 x 10 = 60\n"
     ]
    }
   ],
   "source": [
    "number=int(input(\"enter your number:\"))\n",
    "for i in range(1,11):\n",
    "    print(f\"{number} x {i} = {number*i}\")\n",
    "    "
   ]
  },
  {
   "cell_type": "markdown",
   "id": "760c26b0-d40e-43ff-b3e0-3ab42b0c5e85",
   "metadata": {},
   "source": [
    "### question 9"
   ]
  },
  {
   "cell_type": "code",
   "execution_count": 5,
   "id": "38df6d2a-3d77-4207-898c-24dcab355374",
   "metadata": {},
   "outputs": [
    {
     "name": "stdout",
     "output_type": "stream",
     "text": [
      "3 7 11 15 19 23 27 31 "
     ]
    }
   ],
   "source": [
    "term = 3\n",
    "difference = 4\n",
    "for i in range(8):\n",
    "    print(term, end=\" \")\n",
    "    term = term + difference\n"
   ]
  },
  {
   "cell_type": "markdown",
   "id": "63ca1105-ed58-474c-b8d1-0fd890177fd1",
   "metadata": {},
   "source": [
    "### question 10"
   ]
  },
  {
   "cell_type": "code",
   "execution_count": 8,
   "id": "c17b9271-eccc-43f9-8506-c5794a1cc519",
   "metadata": {},
   "outputs": [
    {
     "name": "stdout",
     "output_type": "stream",
     "text": [
      "2 6 18 54 162 486 1458 "
     ]
    }
   ],
   "source": [
    "term=2\n",
    "ratio=3\n",
    "for i in range(7):\n",
    "    print(term, end= \" \")\n",
    "    term=term * ratio"
   ]
  },
  {
   "cell_type": "markdown",
   "id": "071ae0b0-133e-4d56-9f02-4197d82392c0",
   "metadata": {},
   "source": [
    "### question 11"
   ]
  },
  {
   "cell_type": "code",
   "execution_count": 11,
   "id": "62d77e6e-f164-4a81-ae81-85a9657f9704",
   "metadata": {},
   "outputs": [
    {
     "name": "stdin",
     "output_type": "stream",
     "text": [
      "enter positive number:  10\n"
     ]
    },
    {
     "name": "stdout",
     "output_type": "stream",
     "text": [
      "the sum of 1 to 10 is : 55\n"
     ]
    }
   ],
   "source": [
    "number = int(input(\"enter positive number: \"))\n",
    "total_sum = 0\n",
    "for i in range(1, number + 1):\n",
    "    total_sum += i \n",
    "print(F\"the sum of 1 to {number} is : {total_sum}\")\n"
   ]
  },
  {
   "cell_type": "markdown",
   "id": "3e822cfa-9a4d-46c3-b0bb-23680175f14c",
   "metadata": {},
   "source": [
    "### question 12"
   ]
  },
  {
   "cell_type": "code",
   "execution_count": 12,
   "id": "87b2afdf-e91c-4aca-a95f-6aadb27add52",
   "metadata": {},
   "outputs": [
    {
     "name": "stdin",
     "output_type": "stream",
     "text": [
      "enter positive number:  10\n"
     ]
    },
    {
     "name": "stdout",
     "output_type": "stream",
     "text": [
      "the sum of 1 to 10 is : 2.9289682539682538\n"
     ]
    }
   ],
   "source": [
    "number = int(input(\"enter positive number: \"))\n",
    "total_sum = 0\n",
    "for i in range(1, number + 1):\n",
    "    total_sum += 1/i \n",
    "print(F\"the sum of 1 to {number} is : {total_sum}\")\n"
   ]
  },
  {
   "cell_type": "markdown",
   "id": "927f0a20-0bcb-44da-aa4a-782e662cad0c",
   "metadata": {},
   "source": [
    "### question 13"
   ]
  },
  {
   "cell_type": "code",
   "execution_count": 3,
   "id": "98019006-2b39-48e3-9064-7e26ee06df79",
   "metadata": {},
   "outputs": [
    {
     "name": "stdin",
     "output_type": "stream",
     "text": [
      "enter positive number:  10\n",
      "enter positive number:  15\n",
      "enter positive number:  35\n",
      "enter positive number:  40\n",
      "enter positive number:  50\n"
     ]
    },
    {
     "name": "stdout",
     "output_type": "stream",
     "text": [
      "the final running total is150\n"
     ]
    }
   ],
   "source": [
    "number_1 = int(input(\"enter positive number: \"))\n",
    "number_2 = int(input(\"enter positive number: \"))\n",
    "number_3 = int(input(\"enter positive number: \"))\n",
    "number_4 = int(input(\"enter positive number: \"))\n",
    "number_5 = int(input(\"enter positive number: \"))\n",
    "sum=number_1+number_2+number_3+number_4+number_5\n",
    "print(f\"the final running total is{sum}\")\n"
   ]
  },
  {
   "cell_type": "markdown",
   "id": "3cbc768d-5473-4b1c-8cf9-32c8b754c3ad",
   "metadata": {},
   "source": [
    "### question 14"
   ]
  },
  {
   "cell_type": "code",
   "execution_count": 1,
   "id": "cff42d78-c783-4a45-8776-cc8f0a13b1a4",
   "metadata": {},
   "outputs": [
    {
     "name": "stdin",
     "output_type": "stream",
     "text": [
      "Enter a positive integer:  6\n"
     ]
    },
    {
     "name": "stdout",
     "output_type": "stream",
     "text": [
      "The factorial of 6 is 720.\n"
     ]
    }
   ],
   "source": [
    "number = int(input(\"Enter a positive integer: \"))\n",
    "if number < 0:\n",
    "    print(\"Factorial does not exist for negative numbers.\")\n",
    "elif number == 0:\n",
    "    print(\"The factorial of 0 is 1.\")\n",
    "else:\n",
    "    factorial = 1\n",
    "    for i in range(1, number + 1):\n",
    "        factorial *= i\n",
    "    print(f\"The factorial of {number} is {factorial}.\")\n"
   ]
  },
  {
   "cell_type": "markdown",
   "id": "21150968-973f-41e9-8ca7-e5fb7a285e18",
   "metadata": {},
   "source": [
    "### question 15"
   ]
  },
  {
   "cell_type": "code",
   "execution_count": 3,
   "id": "9761fc40-f1bc-46d6-8745-8d4718794b42",
   "metadata": {},
   "outputs": [
    {
     "name": "stdin",
     "output_type": "stream",
     "text": [
      "Enter the base number:  7\n",
      "Enter the exponent:  2\n"
     ]
    },
    {
     "name": "stdout",
     "output_type": "stream",
     "text": [
      "7.0 raised to the power of 2 is 49.0\n"
     ]
    }
   ],
   "source": [
    "base = float(input(\"Enter the base number: \"))\n",
    "exponent = int(input(\"Enter the exponent: \"))\n",
    "result = 1\n",
    "if exponent > 0:\n",
    "    for i in range(exponent):\n",
    "        result = result * base\n",
    "elif exponent < 0:\n",
    "    for i in range(-exponent):\n",
    "        result = result / base\n",
    "print(base, \"raised to the power of\", exponent, \"is\", result)"
   ]
  },
  {
   "cell_type": "code",
   "execution_count": null,
   "id": "69a57d30-3824-4592-b85f-9bcf52f28953",
   "metadata": {},
   "outputs": [],
   "source": []
  }
 ],
 "metadata": {
  "kernelspec": {
   "display_name": "Python 3 (ipykernel)",
   "language": "python",
   "name": "python3"
  },
  "language_info": {
   "codemirror_mode": {
    "name": "ipython",
    "version": 3
   },
   "file_extension": ".py",
   "mimetype": "text/x-python",
   "name": "python",
   "nbconvert_exporter": "python",
   "pygments_lexer": "ipython3",
   "version": "3.11.7"
  }
 },
 "nbformat": 4,
 "nbformat_minor": 5
}
